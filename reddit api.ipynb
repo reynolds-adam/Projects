{
 "cells": [
  {
   "cell_type": "code",
   "execution_count": 14,
   "id": "7f1a0683-b7d9-4b4b-99ba-59028489d21d",
   "metadata": {},
   "outputs": [],
   "source": [
    "import pandas as pd\n",
    "import numpy as np\n",
    "import requests\n",
    "import praw\n",
    "import sys\n",
    "sys.path.insert(0, '/Users/adamreynolds/Documents/Github')\n",
    "import api_config as red"
   ]
  },
  {
   "cell_type": "code",
   "execution_count": 15,
   "id": "89b7b998-cfea-407d-9b60-a0e9307640b7",
   "metadata": {},
   "outputs": [
    {
     "name": "stdout",
     "output_type": "stream",
     "text": [
      "True\n"
     ]
    }
   ],
   "source": [
    "reddit = praw.Reddit(\n",
    "    client_id=red.reddit['client_id'],\n",
    "    client_secret=red.reddit['client_secret'],\n",
    "    user_agent=red.reddit['user_agent'],\n",
    ")\n",
    "print(reddit.read_only)"
   ]
  },
  {
   "cell_type": "code",
   "execution_count": 16,
   "id": "79828c4c-3e6d-43d3-9812-364a67b4e0a6",
   "metadata": {},
   "outputs": [
    {
     "name": "stdout",
     "output_type": "stream",
     "text": [
      "Daily Discussion Thread + Game Thread Index\n",
      "[SERIOUS NEXT DAY THREAD] Post-Game Discussion (June 05, 2022)\n",
      "Anthony Edwards explains his intense Warriors Pre-Draft Workout: \"Steve Kerr was telling me, If we're going to draft you at #2 you got to work harder. You aren't working hard enough.\"\n",
      "[Charania] Sources: Four-time NBA All-Star Rasheed Wallace has agreed on a deal to be an assistant coach for the Lakers under new head coach Darvin Ham. Both were teammates in Detroit and part of the 2004 title team. Memphis‘ Penny Hardaway hinted today Wallace may join Ham in LA.\n",
      "[Reynolds] Pat Riley, 77, says he's not going anywhere: \"I'm 77 years old and right now I can do more push-ups than you can right now.\"\n",
      "Pat Bev showing no mercy on the playground\n",
      "CJ McCollum on Draymond not getting a 2nd technical: \"Was it extra - absolutely. Did it deserve a technical - absolutely not, not in the Finals, not in this situation. The referees can't control the outcome of the game... I thought that they handled this situation accordingly.\"\n",
      "[Kalbrosky] Lakers coach Darvin Ham: \"I grew up in Saginaw, Michigan. I was shot in the face by accident ... You go through something like that, it's going to do one of two things. It's going to make you fearful or fearless. It made me fearless. I don't feel no pressure. It's basketball.\"\n",
      "[Highlight] Lakers Head Coach Darvin Ham speaks about Russ calling him 'one of the best players the league has ever seen and there's still a ton left in that tank' and essentially confirms he's staying with the Lakers as Russ watches him speak\n",
      "[Charania] LSU junior Shareef O'Neal – son of Hall of Famer Shaquille O'Neal – is now eligible to be selected in the 2022 NBA draft, the league informed teams. A prior list of withdrawals mistakenly included O'Neal. The 6-foot-10 prospect stays in Draft and has upcoming team workouts.\n"
     ]
    }
   ],
   "source": [
    "for submission in reddit.subreddit(\"nba\").hot(limit=10):\n",
    "    print(submission.title)"
   ]
  },
  {
   "cell_type": "code",
   "execution_count": null,
   "id": "d84371f5-46f7-43dd-b3fe-0819ef543599",
   "metadata": {},
   "outputs": [],
   "source": []
  }
 ],
 "metadata": {
  "kernelspec": {
   "display_name": "Python 3 (ipykernel)",
   "language": "python",
   "name": "python3"
  },
  "language_info": {
   "codemirror_mode": {
    "name": "ipython",
    "version": 3
   },
   "file_extension": ".py",
   "mimetype": "text/x-python",
   "name": "python",
   "nbconvert_exporter": "python",
   "pygments_lexer": "ipython3",
   "version": "3.8.9"
  }
 },
 "nbformat": 4,
 "nbformat_minor": 5
}
