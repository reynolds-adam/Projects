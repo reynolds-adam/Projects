{
 "cells": [
  {
   "cell_type": "code",
   "execution_count": 1,
   "id": "7f1a0683-b7d9-4b4b-99ba-59028489d21d",
   "metadata": {},
   "outputs": [
    {
     "ename": "ModuleNotFoundError",
     "evalue": "No module named 'pandas'",
     "output_type": "error",
     "traceback": [
      "\u001b[0;31m---------------------------------------------------------------------------\u001b[0m",
      "\u001b[0;31mModuleNotFoundError\u001b[0m                       Traceback (most recent call last)",
      "Cell \u001b[0;32mIn[1], line 1\u001b[0m\n\u001b[0;32m----> 1\u001b[0m \u001b[38;5;28;01mimport\u001b[39;00m \u001b[38;5;21;01mpandas\u001b[39;00m \u001b[38;5;28;01mas\u001b[39;00m \u001b[38;5;21;01mpd\u001b[39;00m\n\u001b[1;32m      2\u001b[0m \u001b[38;5;28;01mimport\u001b[39;00m \u001b[38;5;21;01mnumpy\u001b[39;00m \u001b[38;5;28;01mas\u001b[39;00m \u001b[38;5;21;01mnp\u001b[39;00m\n\u001b[1;32m      3\u001b[0m \u001b[38;5;28;01mimport\u001b[39;00m \u001b[38;5;21;01mrequests\u001b[39;00m\n",
      "\u001b[0;31mModuleNotFoundError\u001b[0m: No module named 'pandas'"
     ]
    }
   ],
   "source": [
    "import pandas as pd\n",
    "import numpy as np\n",
    "import requests\n",
    "import praw\n",
    "import sys\n",
    "sys.path.insert(0, '/Users/adamreynolds/Documents/Github')\n",
    "import api_config as red"
   ]
  },
  {
   "cell_type": "code",
   "execution_count": 15,
   "id": "89b7b998-cfea-407d-9b60-a0e9307640b7",
   "metadata": {},
   "outputs": [
    {
     "name": "stdout",
     "output_type": "stream",
     "text": [
      "True\n"
     ]
    }
   ],
   "source": [
    "reddit = praw.Reddit(\n",
    "    client_id=red.reddit['client_id'],\n",
    "    client_secret=red.reddit['client_secret'],\n",
    "    user_agent=red.reddit['user_agent'],\n",
    ")\n",
    "print(reddit.read_only)"
   ]
  },
  {
   "cell_type": "code",
   "execution_count": null,
   "id": "0ec24432-2cdc-483a-8716-db1bd07beecc",
   "metadata": {},
   "outputs": [],
   "source": []
  },
  {
   "cell_type": "code",
   "execution_count": 67,
   "id": "ce02c1d8-578d-46f8-8cb8-f6d0a6fa3031",
   "metadata": {},
   "outputs": [],
   "source": [
    "subreddits=['englishlearning',\n",
    "            'languagelearning',\n",
    "            'esl_teachers',\n",
    "            'english',\n",
    "            'teachingenglish',\n",
    "            'learnEnglishOnline'\n",
    "            'ingles'\n",
    "            ]"
   ]
  },
  {
   "cell_type": "code",
   "execution_count": 68,
   "id": "54b58dc9-117a-4b90-96b6-fe23ea380a99",
   "metadata": {},
   "outputs": [
    {
     "data": {
      "text/plain": [
       "'languagelearning'"
      ]
     },
     "execution_count": 68,
     "metadata": {},
     "output_type": "execute_result"
    }
   ],
   "source": [
    "subreddits[1]"
   ]
  },
  {
   "cell_type": "code",
   "execution_count": 75,
   "id": "79828c4c-3e6d-43d3-9812-364a67b4e0a6",
   "metadata": {
    "tags": []
   },
   "outputs": [
    {
     "name": "stdout",
     "output_type": "stream",
     "text": [
      "-----------------------------------------------------\n",
      "----------------- englishlearning ------------------\n",
      "-----------------------------------------------------\n",
      "Title: Language is fluid. It is constantly changing and evolving based on cultural and demographic differences. It doesn’t bother me when folks do not use punctuation just like I expect to not bothered that I use punctuation marks. Full stop.\n",
      "Upvotes: 1623     Comments: 308\n",
      "https://i.redd.it/jii308rrsvz81.jpg\n",
      "\n",
      "\n",
      "Title: Linguist FPS has just been released! It's currently discounted for launch and if you're super keen to play but still can't afford it just let us know, for the next 24 hours we'll give anyone who needs it a free copy of the game. (We're indie developers, so we understand how rough life can be). Enjoy\n",
      "Upvotes: 1372     Comments: 550\n",
      "https://v.redd.it/ze3pvew88o091\n",
      "\n",
      "\n",
      "Title: English was maths all along\n",
      "Upvotes: 1237     Comments: 36\n",
      "https://v.redd.it/t21vdjahlz191\n",
      "\n",
      "\n",
      "Title: Can you make this joke in your target language?\n",
      "Upvotes: 1089     Comments: 320\n",
      "https://www.reddit.com/gallery/v6jy6u\n",
      "\n",
      "\n",
      "Title: Too many people here seem undecided what vocabulary they must learn, so I made this obvious flowchart. Opinions may vary.\n",
      "Upvotes: 1043     Comments: 44\n",
      "https://i.redd.it/1lb2d8e43t091.png\n",
      "\n",
      "\n",
      "-----------------------------------------------------\n",
      "----------------- languagelearning ------------------\n",
      "-----------------------------------------------------\n",
      "Title: Language is fluid. It is constantly changing and evolving based on cultural and demographic differences. It doesn’t bother me when folks do not use punctuation just like I expect to not bothered that I use punctuation marks. Full stop.\n",
      "Upvotes: 1621     Comments: 308\n",
      "https://i.redd.it/jii308rrsvz81.jpg\n",
      "\n",
      "\n",
      "Title: Linguist FPS has just been released! It's currently discounted for launch and if you're super keen to play but still can't afford it just let us know, for the next 24 hours we'll give anyone who needs it a free copy of the game. (We're indie developers, so we understand how rough life can be). Enjoy\n",
      "Upvotes: 1369     Comments: 550\n",
      "https://v.redd.it/ze3pvew88o091\n",
      "\n",
      "\n",
      "Title: English was maths all along\n",
      "Upvotes: 1236     Comments: 36\n",
      "https://v.redd.it/t21vdjahlz191\n",
      "\n",
      "\n",
      "Title: Can you make this joke in your target language?\n",
      "Upvotes: 1086     Comments: 320\n",
      "https://www.reddit.com/gallery/v6jy6u\n",
      "\n",
      "\n",
      "Title: Too many people here seem undecided what vocabulary they must learn, so I made this obvious flowchart. Opinions may vary.\n",
      "Upvotes: 1043     Comments: 44\n",
      "https://i.redd.it/1lb2d8e43t091.png\n",
      "\n",
      "\n",
      "-----------------------------------------------------\n",
      "----------------- esl_teachers ------------------\n",
      "-----------------------------------------------------\n",
      "Title: Language is fluid. It is constantly changing and evolving based on cultural and demographic differences. It doesn’t bother me when folks do not use punctuation just like I expect to not bothered that I use punctuation marks. Full stop.\n",
      "Upvotes: 1624     Comments: 308\n",
      "https://i.redd.it/jii308rrsvz81.jpg\n",
      "\n",
      "\n",
      "Title: Linguist FPS has just been released! It's currently discounted for launch and if you're super keen to play but still can't afford it just let us know, for the next 24 hours we'll give anyone who needs it a free copy of the game. (We're indie developers, so we understand how rough life can be). Enjoy\n",
      "Upvotes: 1365     Comments: 550\n",
      "https://v.redd.it/ze3pvew88o091\n",
      "\n",
      "\n",
      "Title: English was maths all along\n",
      "Upvotes: 1232     Comments: 36\n",
      "https://v.redd.it/t21vdjahlz191\n",
      "\n",
      "\n",
      "Title: Can you make this joke in your target language?\n",
      "Upvotes: 1083     Comments: 320\n",
      "https://www.reddit.com/gallery/v6jy6u\n",
      "\n",
      "\n",
      "Title: Too many people here seem undecided what vocabulary they must learn, so I made this obvious flowchart. Opinions may vary.\n",
      "Upvotes: 1039     Comments: 44\n",
      "https://i.redd.it/1lb2d8e43t091.png\n",
      "\n",
      "\n",
      "-----------------------------------------------------\n",
      "----------------- english ------------------\n",
      "-----------------------------------------------------\n",
      "Title: Language is fluid. It is constantly changing and evolving based on cultural and demographic differences. It doesn’t bother me when folks do not use punctuation just like I expect to not bothered that I use punctuation marks. Full stop.\n",
      "Upvotes: 1627     Comments: 308\n",
      "https://i.redd.it/jii308rrsvz81.jpg\n",
      "\n",
      "\n",
      "Title: Linguist FPS has just been released! It's currently discounted for launch and if you're super keen to play but still can't afford it just let us know, for the next 24 hours we'll give anyone who needs it a free copy of the game. (We're indie developers, so we understand how rough life can be). Enjoy\n",
      "Upvotes: 1369     Comments: 550\n",
      "https://v.redd.it/ze3pvew88o091\n",
      "\n",
      "\n",
      "Title: English was maths all along\n",
      "Upvotes: 1230     Comments: 36\n",
      "https://v.redd.it/t21vdjahlz191\n",
      "\n",
      "\n",
      "Title: Can you make this joke in your target language?\n",
      "Upvotes: 1093     Comments: 320\n",
      "https://www.reddit.com/gallery/v6jy6u\n",
      "\n",
      "\n",
      "Title: Too many people here seem undecided what vocabulary they must learn, so I made this obvious flowchart. Opinions may vary.\n",
      "Upvotes: 1044     Comments: 44\n",
      "https://i.redd.it/1lb2d8e43t091.png\n",
      "\n",
      "\n",
      "-----------------------------------------------------\n",
      "----------------- teachingenglish ------------------\n",
      "-----------------------------------------------------\n",
      "Title: Language is fluid. It is constantly changing and evolving based on cultural and demographic differences. It doesn’t bother me when folks do not use punctuation just like I expect to not bothered that I use punctuation marks. Full stop.\n",
      "Upvotes: 1625     Comments: 308\n",
      "https://i.redd.it/jii308rrsvz81.jpg\n",
      "\n",
      "\n",
      "Title: Linguist FPS has just been released! It's currently discounted for launch and if you're super keen to play but still can't afford it just let us know, for the next 24 hours we'll give anyone who needs it a free copy of the game. (We're indie developers, so we understand how rough life can be). Enjoy\n",
      "Upvotes: 1367     Comments: 550\n",
      "https://v.redd.it/ze3pvew88o091\n",
      "\n",
      "\n",
      "Title: English was maths all along\n",
      "Upvotes: 1228     Comments: 36\n",
      "https://v.redd.it/t21vdjahlz191\n",
      "\n",
      "\n",
      "Title: Can you make this joke in your target language?\n",
      "Upvotes: 1091     Comments: 320\n",
      "https://www.reddit.com/gallery/v6jy6u\n",
      "\n",
      "\n",
      "Title: Too many people here seem undecided what vocabulary they must learn, so I made this obvious flowchart. Opinions may vary.\n",
      "Upvotes: 1048     Comments: 44\n",
      "https://i.redd.it/1lb2d8e43t091.png\n",
      "\n",
      "\n",
      "-----------------------------------------------------\n",
      "----------------- learnEnglishOnlineingles ------------------\n",
      "-----------------------------------------------------\n",
      "Title: Language is fluid. It is constantly changing and evolving based on cultural and demographic differences. It doesn’t bother me when folks do not use punctuation just like I expect to not bothered that I use punctuation marks. Full stop.\n",
      "Upvotes: 1621     Comments: 308\n",
      "https://i.redd.it/jii308rrsvz81.jpg\n",
      "\n",
      "\n",
      "Title: Linguist FPS has just been released! It's currently discounted for launch and if you're super keen to play but still can't afford it just let us know, for the next 24 hours we'll give anyone who needs it a free copy of the game. (We're indie developers, so we understand how rough life can be). Enjoy\n",
      "Upvotes: 1365     Comments: 550\n",
      "https://v.redd.it/ze3pvew88o091\n",
      "\n",
      "\n",
      "Title: English was maths all along\n",
      "Upvotes: 1232     Comments: 36\n",
      "https://v.redd.it/t21vdjahlz191\n",
      "\n",
      "\n",
      "Title: Can you make this joke in your target language?\n",
      "Upvotes: 1088     Comments: 320\n",
      "https://www.reddit.com/gallery/v6jy6u\n",
      "\n",
      "\n",
      "Title: Too many people here seem undecided what vocabulary they must learn, so I made this obvious flowchart. Opinions may vary.\n",
      "Upvotes: 1041     Comments: 44\n",
      "https://i.redd.it/1lb2d8e43t091.png\n",
      "\n",
      "\n"
     ]
    }
   ],
   "source": [
    "for i in subreddits:\n",
    "    print('-----------------------------------------------------')\n",
    "    print('-----------------' +' '+ i +' ' +'------------------')\n",
    "    print('-----------------------------------------------------')\n",
    "    for submission in reddit.subreddit(\"languagelearning\").top(time_filter=\"month\", limit=5):\n",
    "        print('Title: ' + submission.title)\n",
    "        print('Upvotes: ' +str((submission.ups)) +'     Comments: ' + str(submission.num_comments)   )\n",
    "        # print( submission.created)\n",
    "        print(submission.url)\n",
    "        print('\\n')\n",
    "    "
   ]
  },
  {
   "cell_type": "code",
   "execution_count": 50,
   "id": "d84371f5-46f7-43dd-b3fe-0819ef543599",
   "metadata": {},
   "outputs": [
    {
     "name": "stdout",
     "output_type": "stream",
     "text": [
      "Help on method top in module praw.models.listing.mixins.base:\n",
      "\n",
      "top(*, time_filter: str = 'all', **generator_kwargs: Union[str, int, Dict[str, str]]) -> Iterator[Any] method of praw.models.reddit.subreddit.Subreddit instance\n",
      "    Return a :class:`.ListingGenerator` for top items.\n",
      "    \n",
      "    :param time_filter: Can be one of: ``\"all\"``, ``\"day\"``, ``\"hour\"``,\n",
      "        ``\"month\"``, ``\"week\"``, or ``\"year\"`` (default: ``\"all\"``).\n",
      "    \n",
      "    :raises: :py:class:`ValueError` if ``time_filter`` is invalid.\n",
      "    \n",
      "    Additional keyword arguments are passed in the initialization of\n",
      "    :class:`.ListingGenerator`.\n",
      "    \n",
      "    This method can be used like:\n",
      "    \n",
      "    .. code-block:: python\n",
      "    \n",
      "        reddit.domain(\"imgur.com\").top(time_filter=\"week\")\n",
      "        reddit.multireddit(redditor=\"samuraisam\", name=\"programming\").top(time_filter=\"day\")\n",
      "        reddit.redditor(\"spez\").top(time_filter=\"month\")\n",
      "        reddit.redditor(\"spez\").comments.top(time_filter=\"year\")\n",
      "        reddit.redditor(\"spez\").submissions.top(time_filter=\"all\")\n",
      "        reddit.subreddit(\"all\").top(time_filter=\"hour\")\n",
      "\n"
     ]
    }
   ],
   "source": [
    "help(reddit.subreddit('test').top)"
   ]
  }
 ],
 "metadata": {
  "kernelspec": {
   "display_name": "Python 3.11.3 64-bit",
   "language": "python",
   "name": "python3"
  },
  "language_info": {
   "codemirror_mode": {
    "name": "ipython",
    "version": 3
   },
   "file_extension": ".py",
   "mimetype": "text/x-python",
   "name": "python",
   "nbconvert_exporter": "python",
   "pygments_lexer": "ipython3",
   "version": "3.11.3"
  },
  "vscode": {
   "interpreter": {
    "hash": "aee8b7b246df8f9039afb4144a1f6fd8d2ca17a180786b69acc140d282b71a49"
   }
  }
 },
 "nbformat": 4,
 "nbformat_minor": 5
}
