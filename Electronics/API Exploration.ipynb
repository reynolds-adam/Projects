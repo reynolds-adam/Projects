{
 "cells": [
  {
   "cell_type": "code",
   "execution_count": 2,
   "metadata": {},
   "outputs": [],
   "source": [
    "import requests\n",
    "import json"
   ]
  },
  {
   "cell_type": "markdown",
   "metadata": {},
   "source": [
    "# Chuck Norris API"
   ]
  },
  {
   "cell_type": "code",
   "execution_count": null,
   "metadata": {},
   "outputs": [],
   "source": [
    "# https://api.chucknorris.io"
   ]
  },
  {
   "cell_type": "code",
   "execution_count": 30,
   "metadata": {},
   "outputs": [],
   "source": [
    "r = requests.get('https://api.chucknorris.io/jokes/random')"
   ]
  },
  {
   "cell_type": "code",
   "execution_count": 31,
   "metadata": {},
   "outputs": [
    {
     "name": "stdout",
     "output_type": "stream",
     "text": [
      "Chuck Norris's pet Hamster has a ferris wheel.\n"
     ]
    }
   ],
   "source": [
    "joke = json.loads(r.text)['value']\n",
    "\n",
    "print(joke)"
   ]
  },
  {
   "cell_type": "markdown",
   "metadata": {},
   "source": [
    "# Numbers API\n"
   ]
  },
  {
   "cell_type": "code",
   "execution_count": null,
   "metadata": {},
   "outputs": [],
   "source": [
    "# http://numbersapi.com"
   ]
  },
  {
   "cell_type": "code",
   "execution_count": 130,
   "metadata": {},
   "outputs": [],
   "source": [
    "r2 = requests.get('http://numbersapi.com/random/trivia')"
   ]
  },
  {
   "cell_type": "code",
   "execution_count": 56,
   "metadata": {},
   "outputs": [],
   "source": [
    "# n = json.loads(r2.text)"
   ]
  },
  {
   "cell_type": "code",
   "execution_count": 131,
   "metadata": {},
   "outputs": [
    {
     "data": {
      "text/plain": [
       "'3585 is the depth in metres of the deepest mine in the world, the East Rand mine.'"
      ]
     },
     "execution_count": 131,
     "metadata": {},
     "output_type": "execute_result"
    }
   ],
   "source": [
    "r2.text"
   ]
  },
  {
   "cell_type": "code",
   "execution_count": 58,
   "metadata": {},
   "outputs": [],
   "source": [
    "# dir(r2)"
   ]
  },
  {
   "cell_type": "code",
   "execution_count": null,
   "metadata": {},
   "outputs": [],
   "source": []
  },
  {
   "cell_type": "markdown",
   "metadata": {},
   "source": [
    "# Weather API\n",
    "http://api.openweathermap.org"
   ]
  },
  {
   "cell_type": "code",
   "execution_count": 19,
   "metadata": {},
   "outputs": [],
   "source": [
    "# http://api.openweathermap.org\n",
    "\n",
    "api_key = '2d68a2ca0cba8bb67c2b20594b500139'\n",
    "r = requests.get('http://api.openweathermap.org/data/2.5/weather?zip=84620,us&appid='+api_key)"
   ]
  },
  {
   "cell_type": "code",
   "execution_count": 20,
   "metadata": {},
   "outputs": [
    {
     "data": {
      "text/plain": [
       "'{\"coord\":{\"lon\":-111.93,\"lat\":38.92},\"weather\":[{\"id\":800,\"main\":\"Clear\",\"description\":\"clear sky\",\"icon\":\"01n\"}],\"base\":\"stations\",\"main\":{\"temp\":274.67,\"pressure\":835,\"humidity\":44,\"temp_min\":273.15,\"temp_max\":275.93},\"wind\":{\"speed\":0.62,\"deg\":276.721},\"clouds\":{\"all\":0},\"dt\":1571638860,\"sys\":{\"type\":3,\"id\":2007120,\"message\":0.0065,\"country\":\"US\",\"sunrise\":1571665375,\"sunset\":1571704888},\"timezone\":-21600,\"id\":0,\"name\":\"Aurora\",\"cod\":200}'"
      ]
     },
     "execution_count": 20,
     "metadata": {},
     "output_type": "execute_result"
    }
   ],
   "source": [
    "r.text"
   ]
  },
  {
   "cell_type": "code",
   "execution_count": 21,
   "metadata": {},
   "outputs": [
    {
     "data": {
      "text/plain": [
       "32"
      ]
     },
     "execution_count": 21,
     "metadata": {},
     "output_type": "execute_result"
    }
   ],
   "source": [
    "json_object = r.json()\n",
    "low_temp = int(((json_object['main']['temp_min']) - 273.15) * 1.8 + 32)\n",
    "low_temp"
   ]
  },
  {
   "cell_type": "code",
   "execution_count": 22,
   "metadata": {},
   "outputs": [],
   "source": [
    "temp_k = float(json_object['main']['temp'])\n",
    "temp_f = int((temp_k - 273.15) * 1.8 + 32)\n",
    "low_temp  = int(((json_object['main']['temp_min']) - 273.15) * 1.8 + 32)\n",
    "high_temp = int(((json_object['main']['temp_max']) - 273.15) * 1.8 + 32)\n",
    "humid  = float(json_object['main']['humidity'])\n",
    "wind   = int(json_object['wind']['speed'])\n",
    "city   = str(json_object['name'])"
   ]
  },
  {
   "cell_type": "code",
   "execution_count": 23,
   "metadata": {},
   "outputs": [],
   "source": [
    "degree_sign= u'\\N{DEGREE SIGN}'"
   ]
  },
  {
   "cell_type": "code",
   "execution_count": 24,
   "metadata": {},
   "outputs": [],
   "source": [
    "# help(r)"
   ]
  },
  {
   "cell_type": "code",
   "execution_count": 25,
   "metadata": {
    "scrolled": true
   },
   "outputs": [
    {
     "name": "stdout",
     "output_type": "stream",
     "text": [
      " Location:     Aurora \n",
      " Current:      34°F \n",
      " Low:          32°F \n",
      " High:         37°F \n",
      " Wind Speed:   0 mph \n",
      " Humidity:     44.0%\n"
     ]
    }
   ],
   "source": [
    "print(' Location:     {} \\n \\\n",
    "Current:      {}{}F \\n \\\n",
    "Low:          {}{}F \\n \\\n",
    "High:         {}{}F \\n \\\n",
    "Wind Speed:   {} mph \\n \\\n",
    "Humidity:     {}%'.format(city, temp_f, degree_sign, low_temp, degree_sign, high_temp, degree_sign, wind, humid))"
   ]
  },
  {
   "cell_type": "markdown",
   "metadata": {},
   "source": [
    "# Advice API\n",
    "\n",
    "https://api.adviceslip.com"
   ]
  },
  {
   "cell_type": "code",
   "execution_count": null,
   "metadata": {},
   "outputs": [],
   "source": [
    "a = requests.get('https://api.adviceslip.com/advice')"
   ]
  },
  {
   "cell_type": "code",
   "execution_count": 136,
   "metadata": {},
   "outputs": [
    {
     "data": {
      "text/plain": [
       "'If you find yourself distressed about something, ask yourself if it will still matter tomorrow or next week or next month.'"
      ]
     },
     "execution_count": 136,
     "metadata": {},
     "output_type": "execute_result"
    }
   ],
   "source": [
    "advice = json.loads(a.text)['slip']['advice']\n",
    "advice"
   ]
  },
  {
   "cell_type": "code",
   "execution_count": null,
   "metadata": {},
   "outputs": [],
   "source": []
  },
  {
   "cell_type": "code",
   "execution_count": null,
   "metadata": {},
   "outputs": [],
   "source": []
  },
  {
   "cell_type": "code",
   "execution_count": null,
   "metadata": {},
   "outputs": [],
   "source": []
  },
  {
   "cell_type": "markdown",
   "metadata": {},
   "source": [
    "# Other Options\n",
    "\n",
    "http://jservice.io/\n",
    "\n",
    "https://www.brewerydb.com/\n",
    "\n",
    "https://www.thecocktaildb.com/api.php\n",
    "\n",
    "https://api.nasa.gov/index.html\n",
    "\n",
    "https://dictionaryapi.com/"
   ]
  }
 ],
 "metadata": {
  "kernelspec": {
   "display_name": "Python 3",
   "language": "python",
   "name": "python3"
  },
  "language_info": {
   "codemirror_mode": {
    "name": "ipython",
    "version": 3
   },
   "file_extension": ".py",
   "mimetype": "text/x-python",
   "name": "python",
   "nbconvert_exporter": "python",
   "pygments_lexer": "ipython3",
   "version": "3.7.1"
  },
  "toc": {
   "base_numbering": 1,
   "nav_menu": {},
   "number_sections": true,
   "sideBar": true,
   "skip_h1_title": false,
   "title_cell": "Table of Contents",
   "title_sidebar": "Contents",
   "toc_cell": false,
   "toc_position": {},
   "toc_section_display": true,
   "toc_window_display": false
  },
  "varInspector": {
   "cols": {
    "lenName": 16,
    "lenType": 16,
    "lenVar": 40
   },
   "kernels_config": {
    "python": {
     "delete_cmd_postfix": "",
     "delete_cmd_prefix": "del ",
     "library": "var_list.py",
     "varRefreshCmd": "print(var_dic_list())"
    },
    "r": {
     "delete_cmd_postfix": ") ",
     "delete_cmd_prefix": "rm(",
     "library": "var_list.r",
     "varRefreshCmd": "cat(var_dic_list()) "
    }
   },
   "types_to_exclude": [
    "module",
    "function",
    "builtin_function_or_method",
    "instance",
    "_Feature"
   ],
   "window_display": false
  }
 },
 "nbformat": 4,
 "nbformat_minor": 2
}
